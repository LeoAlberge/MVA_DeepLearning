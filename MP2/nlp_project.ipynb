{
 "cells": [
  {
   "cell_type": "markdown",
   "metadata": {},
   "source": [
    "# Deep Learning for NLP - Project"
   ]
  },
  {
   "cell_type": "markdown",
   "metadata": {},
   "source": [
    "RULES:\n",
    "\n",
    "* Do not create any additional cell\n",
    "\n",
    "* Fill in the blanks\n",
    "\n",
    "* All cells should be runnable (modulo trivial compatibility bugs that we'd fix)\n",
    "\n",
    "* 4 / 20 points will be allocated to the clarity of your code\n",
    "\n",
    "* Efficient code will have a bonus\n",
    "\n",
    "DELIVERABLE:\n",
    "\n",
    "* this notebook\n",
    "* the predictions of the SST test set\n",
    "\n",
    "DO NOT INCLUDE THE DATASETS IN THE DELIVERABLE.."
   ]
  },
  {
   "cell_type": "code",
   "execution_count": 1,
   "metadata": {},
   "outputs": [],
   "source": [
    "import io\n",
    "import os\n",
    "import numpy as np\n",
    "import scipy\n",
    "import csv\n",
    "import sklearn\n",
    "import matplotlib.pyplot as plt\n",
    "import pandas as pd"
   ]
  },
  {
   "cell_type": "code",
   "execution_count": 2,
   "metadata": {},
   "outputs": [],
   "source": [
    "PATH_TO_DATA = \"data/\""
   ]
  },
  {
   "cell_type": "markdown",
   "metadata": {},
   "source": [
    "# 1) Monolingual (English) word embeddings "
   ]
  },
  {
   "cell_type": "code",
   "execution_count": 3,
   "metadata": {},
   "outputs": [],
   "source": [
    "class Word2vec():\n",
    "    def __init__(self, fname, nmax=100000):\n",
    "        self.load_wordvec(fname, nmax)\n",
    "        self.word2id = dict(zip(self.word2vec.keys(), range(nmax)))\n",
    "        self.id2word = {v: k for k, v in self.word2id.items()}\n",
    "        self.embeddings = np.array(list(self.word2vec.values()))\n",
    "        self.words = np.array(list(self.word2id.keys())).reshape(-1,1)\n",
    "\n",
    "    def load_wordvec(self, fname, nmax):\n",
    "        self.word2vec = {}\n",
    "        with io.open(fname, encoding='utf-8') as f:\n",
    "            next(f)\n",
    "            for i, line in enumerate(f):\n",
    "                word, vec = line.split(' ', 1)\n",
    "                self.word2vec[word] = np.fromstring(vec, sep=' ')\n",
    "                if i == (nmax - 1):\n",
    "                    break\n",
    "        print('Loaded %s pretrained word vectors' % (len(self.word2vec)))\n",
    "\n",
    "    def most_similar(self, w, K=5):\n",
    "        # K most similar words\n",
    "        # We exclude the first word because it's the words itself\n",
    "        if w in self.word2id:\n",
    "            K_ids =  np.apply_along_axis(arr=self.words, \n",
    "                                         func1d=lambda x: -self.score(x[0], w),\n",
    "                                          axis=1).argsort()[1:K+1]\n",
    "\n",
    "            return [self.id2word[word] for word in K_ids]\n",
    "        else:\n",
    "            return None\n",
    "\n",
    "    def score(self, w1, w2):\n",
    "        # cosine similarity: np.dot  -  np.linalg.norm\n",
    "        # when error (key error etc) return None\n",
    "        try:\n",
    "            w1_id = self.word2id[w1]\n",
    "            w2_id = self.word2id[w2]\n",
    "            return self.embeddings[w1_id].dot(self.embeddings[w2_id])/(np.linalg.norm(self.embeddings[w2_id])*np.linalg.norm(self.embeddings[w1_id]))\n",
    "        except:\n",
    "            return None\n",
    "        \n"
   ]
  },
  {
   "cell_type": "code",
   "execution_count": 4,
   "metadata": {},
   "outputs": [
    {
     "name": "stdout",
     "output_type": "stream",
     "text": [
      "Loaded 200000 pretrained word vectors\n"
     ]
    }
   ],
   "source": [
    "w2v = Word2vec(os.path.join(PATH_TO_DATA, 'dic/crawl-300d-200k.vec'), nmax=200000)\n"
   ]
  },
  {
   "cell_type": "code",
   "execution_count": 5,
   "metadata": {},
   "outputs": [
    {
     "name": "stdout",
     "output_type": "stream",
     "text": [
      "cat dog 0.671683666279249\n",
      "dog pet 0.6842064029669219\n",
      "dogs cats 0.7074389328052403\n",
      "paris france 0.7775108541288561\n",
      "germany berlin 0.7420295235998392\n"
     ]
    }
   ],
   "source": [
    "# You will be evaluated on the output of the following:\n",
    "for w1, w2 in zip(('cat', 'dog', 'dogs', 'paris', 'germany'), ('dog', 'pet', 'cats', 'france', 'berlin')):\n",
    "    print(w1, w2, w2v.score(w1, w2))\n"
   ]
  },
  {
   "cell_type": "code",
   "execution_count": 6,
   "metadata": {},
   "outputs": [
    {
     "name": "stdout",
     "output_type": "stream",
     "text": [
      "cat ['cats', 'kitty', 'kitten', 'feline', 'kitties']\n",
      "dog ['dogs', 'puppy', 'Dog', 'doggie', 'canine']\n",
      "dogs ['dog', 'pooches', 'Dogs', 'doggies', 'canines']\n",
      "paris ['france', 'Paris', 'parisian', 'london', 'berlin']\n",
      "germany ['austria', 'europe', 'german', 'berlin', 'poland']\n"
     ]
    }
   ],
   "source": [
    "for w1 in ['cat', 'dog', 'dogs', 'paris', 'germany']:\n",
    "    print(w1, w2v.most_similar(w1))"
   ]
  },
  {
   "cell_type": "code",
   "execution_count": 10,
   "metadata": {},
   "outputs": [],
   "source": [
    "class BoV():\n",
    "    def __init__(self, w2v):\n",
    "        self.w2v = w2v\n",
    "    \n",
    "    def load_sentences(self, filepath):\n",
    "        sentences = []\n",
    "        with open(filepath, 'r') as f:\n",
    "            lines = f.read().splitlines()\n",
    "            for line in lines:\n",
    "                sentences.append(line.split(' '))\n",
    "        print('Loaded %s sentences' % (len(sentences)))\n",
    "        return sentences\n",
    "    \n",
    "    def encode(self, sentences, idf=False):\n",
    "        # takes a list of sentences, outputs a numpy array of sentence embeddings\n",
    "        # see TP1 for help\n",
    "        sentemb = []\n",
    "        for indice, sent in enumerate(sentences):\n",
    "            emb = []\n",
    "            weights = []\n",
    "            if idf is False:\n",
    "                for w in sent:\n",
    "                    #checking if word is in dic\n",
    "                    if self.w2v.word2id.get(w, -1) == -1:\n",
    "                        continue\n",
    "                    else:\n",
    "                        emb.append(self.w2v.embeddings[self.w2v.word2id[w]])\n",
    "                # mean of word vectors\n",
    "                if emb:\n",
    "                    sentemb.append(np.array(emb).mean(axis=0))\n",
    "                else:\n",
    "                    non_encoded_indices.append(indice)\n",
    "                    \n",
    "            else:\n",
    "                 for w in sent:\n",
    "                    #checking if word is in dic\n",
    "                    if self.w2v.word2id.get(w, -1) == -1:\n",
    "                        continue\n",
    "                    else:\n",
    "                        weights.append(idf[w])\n",
    "                        emb.append(self.w2v.embeddings[self.w2v.word2id[w]])\n",
    "                 # weighted average of word vectors\n",
    "                 sentemb.append(np.average(np.array(emb), weights=weights , axis=0))\n",
    "        return np.vstack(sentemb)\n",
    "\n",
    "    def most_similar(self, s, sentences, idf=False, K=5):\n",
    "        # get most similar sentences and **print** them\n",
    "        print('Query sentence: ', ' '.join(s))\n",
    "        keys = self.encode(sentences, idf)\n",
    "        query = self.encode([s], idf)\n",
    "        K_ids = np.apply_along_axis(arr=keys, \n",
    "                                     func1d=lambda x: -self.score(x, query.reshape(-1)),\n",
    "                                      axis=1).argsort()[1:K+1]\n",
    "        for i in K_ids:\n",
    "            print('Best matches: {}'.format(' '.join(sentences[i])))\n",
    "        return [sentences[i] for i in K_ids]\n",
    "\n",
    "    def score(self, s1, s2, idf=False):\n",
    "        # cosine similarity: use   np.dot  and  np.linalg.norm\n",
    "        return s1.dot(s2)/(np.linalg.norm(s1)*np.linalg.norm(s2))\n",
    "    \n",
    "    def score_sentences(self, s1, s2, idf=False):\n",
    "        # cosine similarity.\n",
    "        # Encoding sentences\n",
    "        s1 = self.encode([s1], idf).reshape(-1)\n",
    "        s2 = self.encode([s2], idf).reshape(-1)\n",
    "        #  returning score\n",
    "        return s1.dot(s2)/(np.linalg.norm(s1)*np.linalg.norm(s2))\n",
    "    \n",
    "    def build_idf(self, sentences):\n",
    "        # build the idf dictionary: associate each word to its idf value\n",
    "        idf = {}\n",
    "        for sent in sentences:\n",
    "            for w in set(sent):\n",
    "                idf[w] = idf.get(w, 0) + 1\n",
    "        \n",
    "        for word in idf.keys():\n",
    "            idf[word] = max(1, np.log10(len(sentences) / (idf[word])))\n",
    "        return idf\n"
   ]
  },
  {
   "cell_type": "code",
   "execution_count": 11,
   "metadata": {},
   "outputs": [
    {
     "name": "stdout",
     "output_type": "stream",
     "text": [
      "Loaded 150736 sentences\n"
     ]
    }
   ],
   "source": [
    "s2v = BoV(w2v)\n",
    "\n",
    "# Load sentences in \"PATH_TO_DATA/sentences.txt\"\n",
    "sentences = s2v.load_sentences(os.path.join(PATH_TO_DATA, 'sentences.txt'))\n",
    "\n",
    "# Build idf scores for each word\n",
    "idf = s2v.build_idf(sentences)"
   ]
  },
  {
   "cell_type": "code",
   "execution_count": 12,
   "metadata": {},
   "outputs": [
    {
     "name": "stdout",
     "output_type": "stream",
     "text": [
      "Query sentence:  1 smiling african american boy . \n",
      "Best matches: an african american man smiling . \n",
      "Best matches: a little african american boy and girl looking up . \n",
      "Best matches: an afican american woman standing behind two small african american children . \n",
      "Best matches: an african american man is sitting . \n",
      "Best matches: a girl in black hat holding an african american baby . \n",
      "0.5726258859719607\n",
      "Query sentence:  1 smiling african american boy . \n",
      "Best matches: an african american man smiling . \n",
      "Best matches: an african american man is sitting . \n",
      "Best matches: a little african american boy and girl looking up . \n",
      "Best matches: an afican american woman standing behind two small african american children . \n",
      "Best matches: a girl in black hat holding an african american baby . \n",
      "0.4751450875368781\n"
     ]
    }
   ],
   "source": [
    "# You will be evaluated on the output of the following:\n",
    "s2v.most_similar('' if not sentences else sentences[10], sentences)  # BoV-mean\n",
    "print(s2v.score_sentences('' if not sentences else sentences[7], '' if not sentences else sentences[13]))\n",
    "\n",
    "s2v.most_similar('' if not sentences else sentences[10], sentences, idf)  # BoV-idf\n",
    "print(s2v.score_sentences('' if not sentences else sentences[7], '' if not sentences else sentences[13], idf))"
   ]
  },
  {
   "cell_type": "markdown",
   "metadata": {},
   "source": [
    "# 2) Multilingual (English-French) word embeddings"
   ]
  },
  {
   "cell_type": "markdown",
   "metadata": {},
   "source": [
    "Let's consider a bilingual dictionary of size V_a (e.g French-English).\n",
    "\n",
    "Let's define **X** and **Y** the **French** and **English** matrices.\n",
    "\n",
    "They contain the embeddings associated to the words in the bilingual dictionary.\n",
    "\n",
    "We want to find a **mapping W** that will project the source word space (e.g French) to the target word space (e.g English).\n",
    "\n",
    "Procrustes : **W\\* = argmin || W.X - Y ||  s.t  W^T.W = Id**\n",
    "has a closed form solution:\n",
    "**W = U.V^T  where  U.Sig.V^T = SVD(Y.X^T)**\n",
    "\n",
    "In what follows, you are asked to: "
   ]
  },
  {
   "cell_type": "code",
   "execution_count": 13,
   "metadata": {},
   "outputs": [],
   "source": [
    "class MWE():\n",
    "    def __init__(self, nmax=50000):\n",
    "        self.nmax = nmax\n",
    "        \n",
    "    def load_embeddings(self):\n",
    "        self.english_w2v = Word2vec(os.path.join(PATH_TO_DATA, 'wiki.en.vec'), nmax=self.nmax)\n",
    "        self.french_w2v =  Word2vec(os.path.join(PATH_TO_DATA, 'wiki.fr.vec'), nmax=self.nmax)\n",
    "        \n",
    "    def intersect(self):\n",
    "        intersect, comm1, comm2  = np.intersect1d(self.english_w2v.words,\n",
    "                                                  self.french_w2v.words,\n",
    "                                                  return_indices=True)\n",
    "        self.Y  = self.english_w2v.embeddings[comm1]\n",
    "        self.X  = self.french_w2v.embeddings[comm2]\n",
    "    \n",
    "    def compute_alignment(self):\n",
    "        u, s, vh = np.linalg.svd(self.Y.T.dot(self.X), full_matrices=True)\n",
    "        self.W = u.dot(vh)\n",
    "        \n",
    "    def align(self, language, word, verbose):\n",
    "        if language == 'French':\n",
    "            if verbose:\n",
    "                print('French word: {}'.format(word))\n",
    "            word_id = self.french_w2v.word2id[word]\n",
    "            return self.W.dot(self.french_w2v.embeddings[word_id])\n",
    "        elif language == 'English':\n",
    "            if verbose:\n",
    "                print('English word: {}'.format(word))\n",
    "            word_id = self.english_w2v.word2id[word]\n",
    "            return self.W.T.dot(self.english_w2v.embeddings[word_id])\n",
    "    \n",
    "    def score(self, s1, s2):\n",
    "        # cosine similarity: use   np.dot  and  np.linalg.norm\n",
    "        return s1.dot(s2)/(np.linalg.norm(s1)*np.linalg.norm(s2))\n",
    "    \n",
    "    def most_similar(self, language, word, K=5 , verbose=True):\n",
    "        \"\"\"\n",
    "        Returns the most similar words after alignment.\n",
    "        \"\"\"\n",
    "        if language == 'French':\n",
    "            # aligning word\n",
    "            aligned = self.align(language, word, verbose=True).reshape(-1)\n",
    "            # K most similar words\n",
    "            K_ids =  np.apply_along_axis(arr=self.english_w2v.embeddings, \n",
    "                                         func1d=lambda x: -self.score(x, aligned),\n",
    "                                          axis=1).argsort()[:K]\n",
    "            res = [self.english_w2v.id2word[word] for word in K_ids]\n",
    "            if verbose:\n",
    "                for word in res:\n",
    "                    print('Best english words matches: {}'.format(word))\n",
    "                print('---------')\n",
    "            return res\n",
    "        \n",
    "        elif language == 'English':\n",
    "            # aligning word\n",
    "            aligned = self.align(language, word, verbose=True).reshape(-1)\n",
    "             # K most similar words: self.score  -  np.argsort \n",
    "            K_ids =  np.apply_along_axis(arr=self.french_w2v.embeddings, \n",
    "                                         func1d=lambda x: -self.score(x, aligned),\n",
    "                                          axis=1).argsort()[:K]\n",
    "            res = [self.french_w2v.id2word[word] for word in K_ids]\n",
    "            if verbose:\n",
    "                for word in res:\n",
    "                    print('Best french words matches: {}'.format(word))\n",
    "                print('---------')\n",
    "            return res\n",
    "        "
   ]
  },
  {
   "cell_type": "code",
   "execution_count": 14,
   "metadata": {},
   "outputs": [
    {
     "name": "stdout",
     "output_type": "stream",
     "text": [
      "Loaded 50000 pretrained word vectors\n",
      "Loaded 50000 pretrained word vectors\n"
     ]
    }
   ],
   "source": [
    "# 1 - Download and load 50k first vectors of\n",
    "# https://s3-us-west-1.amazonaws.com/fasttext-vectors/wiki.en.vec\n",
    "#  https://s3-us-west-1.amazonaws.com/fasttext-vectors/wiki.fr.vec\n",
    "\n",
    "mwe = MWE(50000)\n",
    "mwe.load_embeddings()"
   ]
  },
  {
   "cell_type": "code",
   "execution_count": 15,
   "metadata": {},
   "outputs": [],
   "source": [
    "# 2 - Get words that appear in both vocabs (= identical character strings)\n",
    "#     Use it to create the matrix X and Y (of aligned embeddings for these words)\n",
    "mwe.intersect()"
   ]
  },
  {
   "cell_type": "code",
   "execution_count": 16,
   "metadata": {},
   "outputs": [],
   "source": [
    "# 3 - Solve the Procrustes using the scipy package and: scipy.linalg.svd() and get the optimal W\n",
    "#     Now W*French_vector is in the same space as English_vector\n",
    "mwe.compute_alignment()"
   ]
  },
  {
   "cell_type": "code",
   "execution_count": 17,
   "metadata": {},
   "outputs": [
    {
     "name": "stdout",
     "output_type": "stream",
     "text": [
      "French word: lude\n",
      "Best english words matches: mayenne\n",
      "Best english words matches: château\n",
      "Best english words matches: allier\n",
      "Best english words matches: blois\n",
      "Best english words matches: châteaux\n",
      "---------\n",
      "French word: us\n",
      "Best english words matches: us\n",
      "Best english words matches: u\n",
      "Best english words matches: isner\n",
      "Best english words matches: navratilova\n",
      "Best english words matches: mauresmo\n",
      "---------\n",
      "French word: package\n",
      "Best english words matches: package\n",
      "Best english words matches: packages\n",
      "Best english words matches: functionality\n",
      "Best english words matches: executable\n",
      "Best english words matches: configurable\n",
      "---------\n",
      "French word: formalités\n",
      "Best english words matches: procedures\n",
      "Best english words matches: confidentiality\n",
      "Best english words matches: reimbursement\n",
      "Best english words matches: exemptions\n",
      "Best english words matches: obligations\n",
      "---------\n",
      "French word: jarkko\n",
      "Best english words matches: nieminen\n",
      "Best english words matches: youzhny\n",
      "Best english words matches: björkman\n",
      "Best english words matches: isner\n",
      "Best english words matches: safin\n",
      "---------\n"
     ]
    }
   ],
   "source": [
    "# 4 - After alignment with W, give examples of English nearest neighbors of some French words (and vice versa)\n",
    "#     You will be evaluated on that part and the code above\n",
    "for i in range(5):\n",
    "    word = mwe.french_w2v.words[np.random.randint(mwe.nmax)][0]\n",
    "    mwe.most_similar(language='French', word=word)"
   ]
  },
  {
   "cell_type": "code",
   "execution_count": 18,
   "metadata": {},
   "outputs": [
    {
     "name": "stdout",
     "output_type": "stream",
     "text": [
      "English word: drab\n",
      "Best french words matches: terne\n",
      "Best french words matches: bleuté\n",
      "Best french words matches: beige\n",
      "Best french words matches: pâle\n",
      "Best french words matches: grisâtre\n",
      "---------\n",
      "English word: etiology\n",
      "Best french words matches: pathologies\n",
      "Best french words matches: pathologie\n",
      "Best french words matches: pathologiques\n",
      "Best french words matches: neurologiques\n",
      "Best french words matches: pathologique\n",
      "---------\n",
      "English word: popular\n",
      "Best french words matches: populaire\n",
      "Best french words matches: populaires\n",
      "Best french words matches: popular\n",
      "Best french words matches: prisée\n",
      "Best french words matches: popularité\n",
      "---------\n",
      "English word: deliver\n",
      "Best french words matches: supply\n",
      "Best french words matches: envoyant\n",
      "Best french words matches: response\n",
      "Best french words matches: transporte\n",
      "Best french words matches: envoi\n",
      "---------\n",
      "English word: inexplicable\n",
      "Best french words matches: étrange\n",
      "Best french words matches: incohérence\n",
      "Best french words matches: inquiétante\n",
      "Best french words matches: inquiétant\n",
      "Best french words matches: absurdité\n",
      "---------\n"
     ]
    }
   ],
   "source": [
    "for i in range(5):\n",
    "    word = mwe.english_w2v.words[np.random.randint(mwe.nmax)][0]\n",
    "    mwe.most_similar(language='English', word=word)"
   ]
  },
  {
   "cell_type": "markdown",
   "metadata": {},
   "source": [
    "If you want to dive deeper on this subject: https://github.com/facebookresearch/MUSE"
   ]
  },
  {
   "cell_type": "markdown",
   "metadata": {},
   "source": [
    "# 3) Sentence classification with BoV and scikit-learn"
   ]
  },
  {
   "cell_type": "code",
   "execution_count": 21,
   "metadata": {},
   "outputs": [],
   "source": [
    "class SentenceClassification():\n",
    "    def __init__(self, bov):\n",
    "        self.s2v = bov\n",
    "        self.filepaths = {'train': os.path.join(PATH_TO_DATA, 'SST/stsa.fine.train'),\n",
    "                          'dev': os.path.join(PATH_TO_DATA,'SST/stsa.fine.dev'),\n",
    "                          'test': os.path.join(PATH_TO_DATA,'SST/stsa.fine.test.X'),\n",
    "                         }\n",
    "        self.idf = False\n",
    "        \n",
    "    def load_data(self):\n",
    "        self.X_train, self.Y_train = self.load_sentences('train')\n",
    "        self.X_test, self.Y_test = self.load_sentences('test')\n",
    "        self.X_dev, self.Y_dev = self.load_sentences('dev')\n",
    "\n",
    "    def load_data_keras(self):\n",
    "        self.X_train, self.Y_train = self.load_sentences_keras('train')\n",
    "        self.X_test, self.Y_test = self.load_sentences_keras('test')\n",
    "        self.X_dev, self.Y_dev = self.load_sentences_keras('dev')\n",
    "    \n",
    "    def build_idf(self):\n",
    "        SETS = ['train', 'dev', 'test']\n",
    "        X_non_encoded = []\n",
    "        for set in SETS:\n",
    "            with open(self.filepaths[set], 'r') as f:\n",
    "                lines  = f.read().splitlines()\n",
    "                for line in lines:\n",
    "                    if set != 'test':\n",
    "                        label = int(line[0])\n",
    "                        sentence = line[2:]\n",
    "                        X_non_encoded.append(sentence.split(' '))\n",
    "                    else:\n",
    "                        X_non_encoded.append(line.split(' '))\n",
    "\n",
    "        self.idf = self.s2v.build_idf(X_non_encoded)\n",
    "\n",
    "    def load_sentences(self, set):\n",
    "        \"\"\"\n",
    "        Load sentences, given the set(train, test, dev) and encode the sentences\n",
    "        \"\"\"\n",
    "        Y = []\n",
    "        X_non_encoded = []\n",
    "        with open(self.filepaths[set], 'r') as f:\n",
    "            lines = f.read().splitlines()\n",
    "            for line in lines:\n",
    "                if set != 'test':\n",
    "                    label = int(line[0])\n",
    "                    sentence = line[2:]\n",
    "                    X_non_encoded.append(sentence.split(' '))\n",
    "                    Y.append(label)\n",
    "                else:\n",
    "                    X_non_encoded.append(line.split(' '))\n",
    "\n",
    "\n",
    "                \n",
    "        X = self.s2v.encode(X_non_encoded, idf=self.idf)\n",
    "        Y = np.array(Y)        \n",
    "        return X, Y\n",
    "    \n",
    "    def load_sentences_keras(self, set):\n",
    "        \"\"\"\n",
    "        Load sentences, given the set(train, test, dev) without any procressing\n",
    "        \"\"\"\n",
    "        Y = []\n",
    "        X_non_encoded = []\n",
    "        with open(self.filepaths[set], 'r') as f:\n",
    "            lines = f.read().splitlines()\n",
    "            for line in lines:\n",
    "                if set != 'test':\n",
    "                    label = int(line[0])\n",
    "                    sentence = line[2:]\n",
    "                    X_non_encoded.append(sentence)\n",
    "                    Y.append(label)\n",
    "                else:\n",
    "                    X_non_encoded.append(line)\n",
    "                \n",
    "        Y = np.array(Y)        \n",
    "        return X_non_encoded, Y"
   ]
  },
  {
   "cell_type": "markdown",
   "metadata": {},
   "source": [
    "#### Mean encoding"
   ]
  },
  {
   "cell_type": "code",
   "execution_count": 22,
   "metadata": {},
   "outputs": [],
   "source": [
    "# 2 - Encode sentences with the BoV model above\n",
    "sc = SentenceClassification(s2v)\n",
    "sc.load_data()"
   ]
  },
  {
   "cell_type": "markdown",
   "metadata": {},
   "source": [
    "Logistic Regression on sentence embeddings"
   ]
  },
  {
   "cell_type": "code",
   "execution_count": 23,
   "metadata": {},
   "outputs": [
    {
     "name": "stdout",
     "output_type": "stream",
     "text": [
      "Accuracy on train set:  0.49929775280898875\n",
      "Accuracy on dev set:  0.4396003633060854\n"
     ]
    }
   ],
   "source": [
    "# 3 - Learn Logistic Regression on top of sentence embeddings using scikit-learn\n",
    "#     (consider tuning the L2 regularization on the dev set)\n",
    "\n",
    "from sklearn.linear_model import LogisticRegression\n",
    "lr = LogisticRegression(random_state=5,\n",
    "                        solver='lbfgs',\n",
    "                        multi_class='multinomial',\n",
    "                        max_iter=1000)\n",
    "lr.fit(sc.X_train, sc.Y_train)\n",
    "print('Accuracy on train set:  {}'.format(lr.score(sc.X_train, sc.Y_train)))\n",
    "print('Accuracy on dev set:  {}'.format(lr.score(sc.X_dev, sc.Y_dev)))\n"
   ]
  },
  {
   "cell_type": "markdown",
   "metadata": {},
   "source": [
    "L2 penalty tuning by cross validation"
   ]
  },
  {
   "cell_type": "code",
   "execution_count": 24,
   "metadata": {},
   "outputs": [],
   "source": [
    "accuracies = []\n",
    "l2_penalties = np.linspace(-2,1,20)\n",
    "for l2 in l2_penalties:\n",
    "    lr = LogisticRegression(random_state=5,\n",
    "                            solver='lbfgs',\n",
    "                            multi_class='multinomial',\n",
    "                            max_iter=1000,\n",
    "                            penalty='l2',\n",
    "                            C=1/np.power(10,l2))\n",
    "    lr.fit(sc.X_train, sc.Y_train)\n",
    "    accuracies.append(lr.score(sc.X_dev, sc.Y_dev))"
   ]
  },
  {
   "cell_type": "code",
   "execution_count": 25,
   "metadata": {},
   "outputs": [
    {
     "data": {
      "text/plain": [
       "Text(0, 0.5, 'Accuracy on dev set')"
      ]
     },
     "execution_count": 25,
     "metadata": {},
     "output_type": "execute_result"
    },
    {
     "data": {
      "image/png": "[encoded data removed]",
      "text/plain": [
       "<Figure size 432x288 with 1 Axes>"
      ]
     },
     "metadata": {
      "needs_background": "light"
     },
     "output_type": "display_data"
    }
   ],
   "source": [
    "plt.plot(l2_penalties, accuracies)\n",
    "plt.title('L2 penalty tuning by cross validation')\n",
    "plt.xlabel('Log l2 penalty')\n",
    "plt.ylabel('Accuracy on dev set')"
   ]
  },
  {
   "cell_type": "code",
   "execution_count": 26,
   "metadata": {},
   "outputs": [
    {
     "name": "stdout",
     "output_type": "stream",
     "text": [
      "Best L2 penalty is: 0.18\n"
     ]
    }
   ],
   "source": [
    "best_penalty = l2_penalties[np.argsort(accuracies)[-1]]\n",
    "print('Best L2 penalty is: {0:0.2f}'.format(np.power(10,best_penalty)))\n",
    "best_penalty = 1/np.power(10,best_penalty)"
   ]
  },
  {
   "cell_type": "code",
   "execution_count": 27,
   "metadata": {},
   "outputs": [
    {
     "name": "stdout",
     "output_type": "stream",
     "text": [
      "Accuracy on train set:  0.5124063670411985\n",
      "Best accuracy on dev set:  0.44595821980018163\n"
     ]
    }
   ],
   "source": [
    "lr = LogisticRegression(random_state=5,\n",
    "                        solver='lbfgs',\n",
    "                        multi_class='multinomial',\n",
    "                        max_iter=1000,\n",
    "                        penalty='l2',\n",
    "                        C=best_penalty)\n",
    "lr.fit(sc.X_train, sc.Y_train)\n",
    "print('Accuracy on train set:  {}'.format(lr.score(sc.X_train, sc.Y_train)))\n",
    "print('Best accuracy on dev set:  {}'.format(lr.score(sc.X_dev, sc.Y_dev)))"
   ]
  },
  {
   "cell_type": "code",
   "execution_count": 28,
   "metadata": {},
   "outputs": [],
   "source": [
    "# 4 - Produce 2210 predictions for the test set (in the same order). One line = one prediction (=0,1,2,3,4).\n",
    "#     Attach the output file \"logreg_bov_y_test_sst.txt\" to your deliverable.\n",
    "#     You will be evaluated on the results of the test set.\n",
    "Y_pred_test = lr.predict(sc.X_test)\n",
    "pd.DataFrame(Y_pred_test).to_csv('logreg_bov_y_test_sst.txt', index=False)"
   ]
  },
  {
   "cell_type": "markdown",
   "metadata": {},
   "source": [
    "#### IDF encoding"
   ]
  },
  {
   "cell_type": "code",
   "execution_count": 29,
   "metadata": {},
   "outputs": [],
   "source": [
    "sc = SentenceClassification(s2v)\n",
    "sc.build_idf()\n",
    "sc.load_data()"
   ]
  },
  {
   "cell_type": "code",
   "execution_count": 30,
   "metadata": {},
   "outputs": [
    {
     "name": "stdout",
     "output_type": "stream",
     "text": [
      "Accuracy on train set(IDF encoding):  0.5003511235955056\n",
      "Accuracy on dev set(IDF encoding):  0.4223433242506812\n"
     ]
    }
   ],
   "source": [
    "lr = LogisticRegression(random_state=5,\n",
    "                        solver='lbfgs',\n",
    "                        multi_class='multinomial',\n",
    "                        max_iter=1000)\n",
    "lr.fit(sc.X_train, sc.Y_train)\n",
    "print('Accuracy on train set(IDF encoding):  {}'.format(lr.score(sc.X_train, sc.Y_train)))\n",
    "print('Accuracy on dev set(IDF encoding):  {}'.format(lr.score(sc.X_dev, sc.Y_dev)))\n"
   ]
  },
  {
   "cell_type": "code",
   "execution_count": 31,
   "metadata": {},
   "outputs": [],
   "source": [
    "accuracies = []\n",
    "l2_penalties = np.linspace(-2,2,20)\n",
    "for l2 in l2_penalties:\n",
    "    lr = LogisticRegression(random_state=5,\n",
    "                            solver='lbfgs',\n",
    "                            multi_class='multinomial',\n",
    "                            max_iter=1000,\n",
    "                            penalty='l2',\n",
    "                            C=1/np.power(10,l2))\n",
    "    lr.fit(sc.X_train, sc.Y_train)\n",
    "    accuracies.append(lr.score(sc.X_dev, sc.Y_dev))"
   ]
  },
  {
   "cell_type": "code",
   "execution_count": 32,
   "metadata": {},
   "outputs": [
    {
     "data": {
      "text/plain": [
       "Text(0, 0.5, 'Accuracy on dev set')"
      ]
     },
     "execution_count": 32,
     "metadata": {},
     "output_type": "execute_result"
    },
    {
     "data": {
      "image/png": "[encoded data removed]",
      "text/plain": [
       "<Figure size 432x288 with 1 Axes>"
      ]
     },
     "metadata": {
      "needs_background": "light"
     },
     "output_type": "display_data"
    }
   ],
   "source": [
    "plt.plot(l2_penalties, accuracies)\n",
    "plt.title('L2 penalty tuning by cross validation with IDF encoding')\n",
    "plt.xlabel('Log l2 penalty')\n",
    "plt.ylabel('Accuracy on dev set')"
   ]
  },
  {
   "cell_type": "code",
   "execution_count": 33,
   "metadata": {},
   "outputs": [
    {
     "name": "stdout",
     "output_type": "stream",
     "text": [
      "Best L2 penalty is: 14.38\n"
     ]
    }
   ],
   "source": [
    "best_penalty = l2_penalties[np.argsort(accuracies)[-1]]\n",
    "print('Best L2 penalty is: {0:0.2f}'.format(np.power(10,best_penalty)))\n",
    "best_penalty = 1/np.power(10,best_penalty)"
   ]
  },
  {
   "cell_type": "code",
   "execution_count": 34,
   "metadata": {},
   "outputs": [
    {
     "name": "stdout",
     "output_type": "stream",
     "text": [
      "Accuracy on train set:  0.46289794007490637\n",
      "Best accuracy on dev set:  0.4287011807447775\n"
     ]
    }
   ],
   "source": [
    "lr = LogisticRegression(random_state=5,\n",
    "                        solver='lbfgs',\n",
    "                        multi_class='multinomial',\n",
    "                        max_iter=1000,\n",
    "                        penalty='l2',\n",
    "                        C=best_penalty)\n",
    "lr.fit(sc.X_train, sc.Y_train)\n",
    "print('Accuracy on train set:  {}'.format(lr.score(sc.X_train, sc.Y_train)))\n",
    "print('Best accuracy on dev set:  {}'.format(lr.score(sc.X_dev, sc.Y_dev)))"
   ]
  },
  {
   "cell_type": "markdown",
   "metadata": {},
   "source": [
    "# 4) Sentence classification with LSTMs in Keras"
   ]
  },
  {
   "cell_type": "markdown",
   "metadata": {},
   "source": [
    "## 4.1 - Preprocessing"
   ]
  },
  {
   "cell_type": "code",
   "execution_count": 35,
   "metadata": {},
   "outputs": [
    {
     "name": "stderr",
     "output_type": "stream",
     "text": [
      "Using TensorFlow backend.\n"
     ]
    }
   ],
   "source": [
    "import keras"
   ]
  },
  {
   "cell_type": "code",
   "execution_count": 36,
   "metadata": {},
   "outputs": [],
   "source": [
    "# 1 - Load train/dev/test sets of SST\n",
    "sc = SentenceClassification(s2v)\n",
    "sc.load_data_keras()"
   ]
  },
  {
   "cell_type": "code",
   "execution_count": 37,
   "metadata": {},
   "outputs": [],
   "source": [
    "# 2 - Transform text to integers using keras.preprocessing.text.one_hot function\n",
    "#     https://keras.io/preprocessing/text/\n",
    "sequences = []\n",
    "sequences_val = []\n",
    "sequences_test = []\n",
    "\n",
    "# Computing vocabulary size in the train set. \n",
    "words = []\n",
    "for sent in sc.X_train:\n",
    "    words.extend(sent.split(' '))\n",
    "nwords = len(set(words))\n",
    "\n",
    "\n",
    "#maximum sentence length\n",
    "max_len = 0\n",
    "\n",
    "# preprocessing training data with one hot\n",
    "for sent in sc.X_train:\n",
    "    x = keras.preprocessing.text.one_hot(sent,\n",
    "                                         n=nwords,\n",
    "                                         lower=True,\n",
    "                                         split=' ')\n",
    "    if len(x)> max_len:\n",
    "        max_len = len(x)\n",
    "    sequences.append(x)\n",
    "\n",
    "# preprocessing validation data with one hot\n",
    "for sent in sc.X_dev:\n",
    "    x = keras.preprocessing.text.one_hot(sent,\n",
    "                                         n=nwords,\n",
    "                                         lower=True,\n",
    "                                         split=' ')\n",
    "    sequences_val.append(x)    \n",
    "\n",
    "# preprocessing validation data with one hot\n",
    "for sent in sc.X_test:\n",
    "    x = keras.preprocessing.text.one_hot(sent,\n",
    "                                         n=nwords,\n",
    "                                         lower=True,\n",
    "                                         split=' ')\n",
    "    sequences_test.append(x)   "
   ]
  },
  {
   "cell_type": "markdown",
   "metadata": {},
   "source": [
    "**Padding input data**\n",
    "\n",
    "Models in Keras (and elsewhere) take batches of sentences of the same length as input. It is because Deep Learning framework have been designed to handle well Tensors, which are particularly suited for fast computation on the GPU.\n",
    "\n",
    "Since sentences have different sizes, we \"pad\" them. That is, we add dummy \"padding\" tokens so that they all have the same length.\n",
    "\n",
    "The input to a Keras model thus has this size : (batchsize, maxseqlen) where maxseqlen is the maximum length of a sentence in the batch."
   ]
  },
  {
   "cell_type": "code",
   "execution_count": 38,
   "metadata": {},
   "outputs": [],
   "source": [
    "# 3 - Pad your sequences using keras.preprocessing.sequence.pad_sequences\n",
    "#     https://keras.io/preprocessing/sequence/\n",
    "\n",
    "\n",
    "x_train = keras.preprocessing.sequence.pad_sequences(sequences,\n",
    "                                           maxlen=20,\n",
    "                                           dtype='int32',\n",
    "                                           padding='pre',\n",
    "                                           value=0.0)\n",
    "x_val = keras.preprocessing.sequence.pad_sequences(sequences_val,\n",
    "                                           maxlen=20,\n",
    "                                           dtype='int32',\n",
    "                                           padding='pre',\n",
    "                                           value=0.0)\n",
    "x_test = keras.preprocessing.sequence.pad_sequences(sequences_test,\n",
    "                                           maxlen=max_len,\n",
    "                                           dtype='int32',\n",
    "                                           padding='pre',\n",
    "                                           value=0.0)"
   ]
  },
  {
   "cell_type": "code",
   "execution_count": 39,
   "metadata": {},
   "outputs": [],
   "source": [
    "#converting class labels to one hot vector\n",
    "\n",
    "y_train = keras.utils.to_categorical(sc.Y_train, num_classes=5, dtype='float32')\n",
    "y_val = keras.utils.to_categorical(sc.Y_dev, num_classes=5, dtype='float32')"
   ]
  },
  {
   "cell_type": "markdown",
   "metadata": {},
   "source": [
    "## 4.2 - Design and train your model"
   ]
  },
  {
   "cell_type": "code",
   "execution_count": 40,
   "metadata": {},
   "outputs": [],
   "source": [
    "# 4 - Design your encoder + classifier using keras.layers\n",
    "#     In Keras, Torch and other deep learning framework, we create a \"container\" which is the Sequential() module.\n",
    "#     Then we add components to this contained : the lookuptable, the LSTM, the classifier etc.\n",
    "#     All of these components are contained in the Sequential() and are trained together.\n",
    "\n",
    "\n",
    "\n",
    "from keras.models import Sequential\n",
    "from keras.layers import Embedding, LSTM, Dense, Activation, Conv1D, Input, MaxPooling1D, Flatten, AveragePooling1D, Conv2D\n",
    "\n",
    "embed_dim  = 10  # word embedding dimension\n",
    "nhid       = 16  # number of hidden units in the LSTM\n",
    "vocab_size = nwords  # size of the vocabulary\n",
    "n_classes  = 5\n",
    "\n",
    "model = Sequential()\n",
    "model.add(Embedding(vocab_size, embed_dim))\n",
    "model.add(LSTM(nhid, dropout=0.2, recurrent_dropout=0.2))\n",
    "model.add(Dense(n_classes, activation='softmax'))\n"
   ]
  },
  {
   "cell_type": "code",
   "execution_count": 41,
   "metadata": {},
   "outputs": [
    {
     "name": "stdout",
     "output_type": "stream",
     "text": [
      "_________________________________________________________________\n",
      "Layer (type)                 Output Shape              Param #   \n",
      "=================================================================\n",
      "embedding_1 (Embedding)      (None, None, 10)          165810    \n",
      "_________________________________________________________________\n",
      "lstm_1 (LSTM)                (None, 16)                1728      \n",
      "_________________________________________________________________\n",
      "dense_1 (Dense)              (None, 5)                 85        \n",
      "=================================================================\n",
      "Total params: 167,623\n",
      "Trainable params: 167,623\n",
      "Non-trainable params: 0\n",
      "_________________________________________________________________\n",
      "None\n"
     ]
    }
   ],
   "source": [
    "# 5 - Define your loss/optimizer/metrics\n",
    "\n",
    "# MODIFY CODE BELOW\n",
    "\n",
    "loss_classif     =  'categorical_crossentropy' # find the right loss for multi-class classification\n",
    "optimizer        =  'adam' # find the right optimizer\n",
    "metrics_classif  =  ['accuracy']\n",
    "\n",
    "# Observe how easy (but blackboxed) this is in Keras\n",
    "model.compile(loss=loss_classif,\n",
    "              optimizer=optimizer,\n",
    "              metrics=metrics_classif)\n",
    "print(model.summary())"
   ]
  },
  {
   "cell_type": "code",
   "execution_count": 42,
   "metadata": {},
   "outputs": [
    {
     "name": "stdout",
     "output_type": "stream",
     "text": [
      "Train on 8544 samples, validate on 1101 samples\n",
      "Epoch 1/5\n",
      "8544/8544 [==============================] - 5s 590us/step - loss: 1.5797 - acc: 0.2733 - val_loss: 1.5688 - val_acc: 0.2534\n",
      "Epoch 2/5\n",
      "8544/8544 [==============================] - 3s 337us/step - loss: 1.5229 - acc: 0.3420 - val_loss: 1.4728 - val_acc: 0.3597\n",
      "Epoch 3/5\n",
      "8544/8544 [==============================] - 3s 337us/step - loss: 1.3645 - acc: 0.4224 - val_loss: 1.4267 - val_acc: 0.3624\n",
      "Epoch 4/5\n",
      "8544/8544 [==============================] - 3s 298us/step - loss: 1.2086 - acc: 0.4815 - val_loss: 1.4165 - val_acc: 0.3742\n",
      "Epoch 5/5\n",
      "8544/8544 [==============================] - 3s 310us/step - loss: 1.0864 - acc: 0.5492 - val_loss: 1.4432 - val_acc: 0.3760\n"
     ]
    }
   ],
   "source": [
    "# 6 - Train your model and find the best hyperparameters for your dev set\n",
    "#     you will be evaluated on the quality of your predictions on the test set\n",
    "\n",
    "bs = 64\n",
    "n_epochs = 5\n",
    "\n",
    "history = model.fit(x_train,\n",
    "                    y_train,\n",
    "                    batch_size=bs,\n",
    "                    epochs=n_epochs,\n",
    "                    validation_data=(x_val, y_val))"
   ]
  },
  {
   "cell_type": "code",
   "execution_count": 43,
   "metadata": {},
   "outputs": [],
   "source": [
    "def plot_training_error(history):\n",
    "    plt.figure(figsize=(8,8))\n",
    "    plt.subplot(2, 1, 1)\n",
    "    plt.plot(history.history['loss'], label=\"training loss\")\n",
    "    plt.ylabel('Loss')\n",
    "    plt.xlabel('Epoch')\n",
    "    \n",
    "    plt.plot(history.history['val_loss'], label=\"validation loss\")\n",
    "    plt.ylabel('Loss')\n",
    "    plt.xlabel('Epoch')\n",
    "    \n",
    "    plt.legend()\n",
    "    plt.subplot(2, 1, 2)\n",
    "\n",
    "    plt.plot(history.history['acc'], label=\"training accuracy\")\n",
    "    plt.ylabel('Accuracy')\n",
    "    plt.xlabel('Epoch')\n",
    "   \n",
    "    plt.plot(history.history['val_acc'], label=\"validation accuracy\")\n",
    "    plt.ylabel('Accuracy')\n",
    "    plt.xlabel('Epoch')\n",
    "    plt.legend()"
   ]
  },
  {
   "cell_type": "code",
   "execution_count": 44,
   "metadata": {},
   "outputs": [
    {
     "data": {
      "image/png": "[encoded data removed]",
      "text/plain": [
       "<Figure size 576x576 with 2 Axes>"
      ]
     },
     "metadata": {
      "needs_background": "light"
     },
     "output_type": "display_data"
    }
   ],
   "source": [
    "plot_training_error(history=history)"
   ]
  },
  {
   "cell_type": "code",
   "execution_count": 45,
   "metadata": {},
   "outputs": [],
   "source": [
    "# 7 - Generate your predictions on the test set using model.predict(x_test)\n",
    "#     https://keras.io/models/model/\n",
    "#     Log your predictions in a file (one line = one integer: 0,1,2,3,4)\n",
    "#     Attach the output file \"logreg_lstm_y_test_sst.txt\" to your deliverable.\n",
    "\n",
    "pd.DataFrame(model.predict_classes(x_test)).to_csv('logreg_lstm_y_test_sst.txt',\n",
    "                                                   index=False)"
   ]
  },
  {
   "cell_type": "markdown",
   "metadata": {},
   "source": [
    "## 4.3 -- innovate !"
   ]
  },
  {
   "cell_type": "code",
   "execution_count": 46,
   "metadata": {},
   "outputs": [],
   "source": [
    "# 8 - Open question: find a model that is better on your dev set\n",
    "#     (e.g: use a 1D ConvNet, use a better classifier, pretrain your lookup tables ..)\n",
    "#     you will get point if the results on the test set are better: be careful of not overfitting your dev set too much..\n",
    "#     Attach the output file \"XXX_XXX_y_test_sst.txt\" to your deliverable.\n"
   ]
  },
  {
   "cell_type": "markdown",
   "metadata": {},
   "source": [
    "To inovate we are going to build a model similar to the previous question but we are going to use a pretrained embedding based on the W2V used in the first question"
   ]
  },
  {
   "cell_type": "markdown",
   "metadata": {},
   "source": [
    "#### Loading W2V"
   ]
  },
  {
   "cell_type": "code",
   "execution_count": 47,
   "metadata": {},
   "outputs": [
    {
     "name": "stdout",
     "output_type": "stream",
     "text": [
      "Loaded 200000 pretrained word vectors\n"
     ]
    }
   ],
   "source": [
    "w2v = Word2vec(os.path.join(PATH_TO_DATA, 'dic/crawl-300d-200k.vec'), nmax=200000)\n",
    "s2v = BoV(w2v)\n",
    "sc = SentenceClassification(s2v)\n",
    "sc.load_data_keras()"
   ]
  },
  {
   "cell_type": "code",
   "execution_count": 48,
   "metadata": {},
   "outputs": [],
   "source": [
    "def custom_tokenize(sentences, w2v):\n",
    "    \"\"\"\n",
    "    Custom tokenize function.\n",
    "    Return the list of indices in w2v for each sentence in the dataset.\n",
    "    \"\"\"\n",
    "    tokens = []\n",
    "    #iterate over sentences\n",
    "    for s in sentences:\n",
    "        indices = []\n",
    "        for w in s.split(' '):\n",
    "            if w in w2v.word2id:\n",
    "                indices.append(w2v.word2id[w])\n",
    "        tokens.append(indices)\n",
    "    return tokens"
   ]
  },
  {
   "cell_type": "markdown",
   "metadata": {},
   "source": [
    "#### Processing sentences and labels"
   ]
  },
  {
   "cell_type": "code",
   "execution_count": 49,
   "metadata": {},
   "outputs": [],
   "source": [
    "MAX_LEN = 30\n",
    "NUM_CLASSES = 5"
   ]
  },
  {
   "cell_type": "code",
   "execution_count": 50,
   "metadata": {},
   "outputs": [],
   "source": [
    "sequences_train = custom_tokenize(sc.X_train, w2v)\n",
    "x_train = keras.preprocessing.sequence.pad_sequences(sequences_train,\n",
    "                                           maxlen=MAX_LEN,\n",
    "                                           dtype='int32',\n",
    "                                           padding='post',\n",
    "                                           value=0.0)"
   ]
  },
  {
   "cell_type": "code",
   "execution_count": 51,
   "metadata": {},
   "outputs": [],
   "source": [
    "sequences_val = custom_tokenize(sc.X_dev, w2v)\n",
    "x_val = keras.preprocessing.sequence.pad_sequences(sequences_val,\n",
    "                                           maxlen=MAX_LEN,\n",
    "                                           dtype='int32',\n",
    "                                           padding='post',\n",
    "                                           value=0.0)"
   ]
  },
  {
   "cell_type": "code",
   "execution_count": 52,
   "metadata": {},
   "outputs": [],
   "source": [
    "sequences_test = custom_tokenize(sc.X_test, w2v)\n",
    "x_test = keras.preprocessing.sequence.pad_sequences(sequences_test,\n",
    "                                           maxlen=MAX_LEN,\n",
    "                                           dtype='int32',\n",
    "                                           padding='post',\n",
    "                                           value=0.0)"
   ]
  },
  {
   "cell_type": "code",
   "execution_count": 53,
   "metadata": {},
   "outputs": [],
   "source": [
    "y_train = keras.utils.to_categorical(sc.Y_train, num_classes=NUM_CLASSES, dtype='float32')\n",
    "y_val = keras.utils.to_categorical(sc.Y_dev, num_classes=NUM_CLASSES, dtype='float32')"
   ]
  },
  {
   "cell_type": "markdown",
   "metadata": {},
   "source": [
    "#### Defining the embedding layer with the w2v matrix"
   ]
  },
  {
   "cell_type": "code",
   "execution_count": 54,
   "metadata": {},
   "outputs": [],
   "source": [
    "embedding_layer = Embedding(input_dim=w2v.embeddings.shape[0],\n",
    "                            output_dim=w2v.embeddings.shape[1], \n",
    "                            input_length=MAX_LEN,\n",
    "                            weights=[w2v.embeddings], \n",
    "                            trainable=False, \n",
    "                            name='embedding_layer')"
   ]
  },
  {
   "cell_type": "markdown",
   "metadata": {},
   "source": [
    "#### Defining model"
   ]
  },
  {
   "cell_type": "code",
   "execution_count": 55,
   "metadata": {},
   "outputs": [],
   "source": [
    "NHID = 32\n",
    "DROPOUT = 0.2"
   ]
  },
  {
   "cell_type": "code",
   "execution_count": 56,
   "metadata": {},
   "outputs": [],
   "source": [
    "sequence_input = keras.Input(shape=(MAX_LEN,),\n",
    "                             dtype='int32')\n",
    "embedded_sequences = embedding_layer(sequence_input)\n",
    "output_lstm = LSTM(NHID,\n",
    "                   dropout=DROPOUT,\n",
    "                   recurrent_dropout=DROPOUT)(embedded_sequences)\n",
    "predictions = Dense(n_classes,\n",
    "                    activation='softmax')(output_lstm)\n",
    "model = keras.Model(sequence_input,\n",
    "                    predictions)"
   ]
  },
  {
   "cell_type": "code",
   "execution_count": 57,
   "metadata": {},
   "outputs": [
    {
     "name": "stdout",
     "output_type": "stream",
     "text": [
      "_________________________________________________________________\n",
      "Layer (type)                 Output Shape              Param #   \n",
      "=================================================================\n",
      "input_1 (InputLayer)         (None, 30)                0         \n",
      "_________________________________________________________________\n",
      "embedding_layer (Embedding)  (None, 30, 300)           60000000  \n",
      "_________________________________________________________________\n",
      "lstm_2 (LSTM)                (None, 32)                42624     \n",
      "_________________________________________________________________\n",
      "dense_2 (Dense)              (None, 5)                 165       \n",
      "=================================================================\n",
      "Total params: 60,042,789\n",
      "Trainable params: 42,789\n",
      "Non-trainable params: 60,000,000\n",
      "_________________________________________________________________\n",
      "None\n"
     ]
    }
   ],
   "source": [
    "print(model.summary())"
   ]
  },
  {
   "cell_type": "code",
   "execution_count": 58,
   "metadata": {},
   "outputs": [],
   "source": [
    "\n",
    "loss_classif     =  'categorical_crossentropy' # find the right loss for multi-class classification\n",
    "optimizer        = 'adam'\n",
    "\n",
    "metrics_classif  =  ['accuracy']\n",
    "\n",
    "# Observe how easy (but blackboxed) this is in Keras\n",
    "model.compile(loss=loss_classif,\n",
    "              optimizer=optimizer,\n",
    "              metrics=metrics_classif)\n"
   ]
  },
  {
   "cell_type": "code",
   "execution_count": 59,
   "metadata": {},
   "outputs": [
    {
     "name": "stdout",
     "output_type": "stream",
     "text": [
      "Train on 8544 samples, validate on 1101 samples\n",
      "Epoch 1/10\n",
      "8544/8544 [==============================] - 10s 1ms/step - loss: 1.5743 - acc: 0.2625 - val_loss: 1.5700 - val_acc: 0.2752\n",
      "Epoch 2/10\n",
      "8544/8544 [==============================] - 7s 870us/step - loss: 1.5140 - acc: 0.3182 - val_loss: 1.4110 - val_acc: 0.3678\n",
      "Epoch 3/10\n",
      "8544/8544 [==============================] - 7s 864us/step - loss: 1.3815 - acc: 0.3835 - val_loss: 1.3367 - val_acc: 0.3787\n",
      "Epoch 4/10\n",
      "8544/8544 [==============================] - 7s 867us/step - loss: 1.3215 - acc: 0.4036 - val_loss: 1.3073 - val_acc: 0.4187\n",
      "Epoch 5/10\n",
      "8544/8544 [==============================] - 7s 859us/step - loss: 1.2826 - acc: 0.4258 - val_loss: 1.2784 - val_acc: 0.4360\n",
      "Epoch 6/10\n",
      "8544/8544 [==============================] - 7s 858us/step - loss: 1.2480 - acc: 0.4458 - val_loss: 1.2680 - val_acc: 0.4387\n",
      "Epoch 7/10\n",
      "8544/8544 [==============================] - 7s 850us/step - loss: 1.2214 - acc: 0.4638 - val_loss: 1.2596 - val_acc: 0.4614\n",
      "Epoch 8/10\n",
      "8544/8544 [==============================] - 7s 873us/step - loss: 1.2035 - acc: 0.4734 - val_loss: 1.2789 - val_acc: 0.4687\n",
      "Epoch 9/10\n",
      "8544/8544 [==============================] - 8s 895us/step - loss: 1.1777 - acc: 0.4875 - val_loss: 1.2415 - val_acc: 0.4650\n",
      "Epoch 10/10\n",
      "8544/8544 [==============================] - 9s 1ms/step - loss: 1.1567 - acc: 0.5034 - val_loss: 1.2445 - val_acc: 0.4650\n"
     ]
    }
   ],
   "source": [
    "# 6 - Train your model and find the best hyperparameters for your dev set\n",
    "#     you will be evaluated on the quality of your predictions on the test set\n",
    "\n",
    "bs = 32\n",
    "n_epochs = 10\n",
    "history = model.fit(x_train,\n",
    "                    y_train,\n",
    "                    batch_size=bs,\n",
    "                    epochs=n_epochs,\n",
    "                    validation_data=(x_val, y_val))"
   ]
  },
  {
   "cell_type": "code",
   "execution_count": 60,
   "metadata": {},
   "outputs": [
    {
     "data": {
      "image/png": "[encoded data removed]",
      "text/plain": [
       "<Figure size 576x576 with 2 Axes>"
      ]
     },
     "metadata": {
      "needs_background": "light"
     },
     "output_type": "display_data"
    }
   ],
   "source": [
    "plot_training_error(history=history)"
   ]
  },
  {
   "cell_type": "code",
   "execution_count": 61,
   "metadata": {},
   "outputs": [],
   "source": [
    "pd.DataFrame(np.argmax(model.predict(x_test), axis=1)).to_csv('pretrained_embedding_lstm_y_test_sst.txt',\n",
    "                                                   index=False)"
   ]
  }
 ],
 "metadata": {
  "kernelspec": {
   "display_name": "Python 3",
   "language": "python",
   "name": "python3"
  },
  "language_info": {
   "codemirror_mode": {
    "name": "ipython",
    "version": 3
   },
   "file_extension": ".py",
   "mimetype": "text/x-python",
   "name": "python",
   "nbconvert_exporter": "python",
   "pygments_lexer": "ipython3",
   "version": "3.6.6"
  }
 },
 "nbformat": 4,
 "nbformat_minor": 1
}
